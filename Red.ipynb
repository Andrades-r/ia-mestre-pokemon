{
 "cells": [
  {
   "cell_type": "code",
   "execution_count": 1,
   "metadata": {},
   "outputs": [],
   "source": [
    "import json\n",
    "import random as rd"
   ]
  },
  {
   "cell_type": "code",
   "execution_count": 2,
   "metadata": {},
   "outputs": [],
   "source": [
    "\n",
    "MAP_NAME = 'map.txt'\n",
    "SIZE = 42\n",
    "\n",
    "NUMBER_MALL = 15\n",
    "NUMBER_POKECENTER = 20\n",
    "NUMBER_TRAINERS = 50\n",
    "NUMBER_POKEMONS = 150\n",
    "\n",
    "START_POSITION = (20,25)\n",
    "START_POKEBALLS = 25\n",
    "\n",
    "rd.seed=23"
   ]
  },
  {
   "cell_type": "code",
   "execution_count": 3,
   "metadata": {},
   "outputs": [],
   "source": [
    "def load_map(to_print=0):  \n",
    "    map_matrix = []  \n",
    "    with open('./'+MAP_NAME,'r') as map_file:\n",
    "        for i in range(SIZE):\n",
    "            tmp = map_file.readline()\n",
    "            if tmp[-1] == '\\n':\n",
    "                tmp = tmp[:-1]        \n",
    "            map_matrix.append(tmp)\n",
    "    if to_print == 1:\n",
    "        print('\\n'.join(map(str, map_matrix)))\n",
    "    return map_matrix\n",
    "\n",
    "def load_pokelist():\n",
    "    pokes = []\n",
    "    with open('./pokemon.json','r') as pokes_file:\n",
    "        pokes = json.load(pokes_file)\n",
    "    return pokes\n",
    "\n",
    "def load_poketypes():\n",
    "    types = []\n",
    "    with open('./types.json','r') as types_file:\n",
    "        types = json.load(types_file)\n",
    "    return types\n",
    "\n",
    "def set_map(to_print=0):\n",
    "    rd.seed = 123\n",
    "    map_dict = {}\n",
    "    \n",
    "    map_dict = draw_items(NUMBER_MALL, 'L', map_dict)\n",
    "    map_dict = draw_items(NUMBER_POKECENTER, 'P', map_dict)\n",
    "    map_dict = draw_items(NUMBER_TRAINERS, 'T', map_dict)\n",
    "    map_dict = draw_pokemons(NUMBER_POKEMONS, map_dict)\n",
    "    \n",
    "    if to_print == 1:\n",
    "        for keys,values in map_dict.items():\n",
    "            print(keys,\":\",values)\n",
    "    \n",
    "    return map_dict\n",
    "    \n",
    "\n",
    "def draw_items(quantity, item, tmp_dict):\n",
    "    for i in range(quantity):\n",
    "        while True:\n",
    "            pos_x = rd.randint(0,SIZE-1)\n",
    "            pos_y = rd.randint(0,SIZE-1)\n",
    "            tmp = (pos_x,pos_y)\n",
    "            if not tmp in tmp_dict:\n",
    "                tmp_dict[tmp] = item\n",
    "                break\n",
    "    return tmp_dict\n",
    "    \n",
    "def draw_pokemons(quantity, tmp_dict):\n",
    "    for i in range(quantity):\n",
    "        while True:\n",
    "            pos_x = rd.randint(0,SIZE-1)\n",
    "            pos_y = rd.randint(0,SIZE-1)\n",
    "            tmp = (pos_x,pos_y)\n",
    "            if not tmp in tmp_dict:\n",
    "                tmp_dict[tmp] = i+1\n",
    "                break\n",
    "    return tmp_dict\n",
    "\n",
    "def check_position(pos_x, pos_y,map_dict):\n",
    "    tmp = (pos_x, pos_y)\n",
    "    if pos_x>41 or pos_y>41:\n",
    "        return \"Position not exists\"\n",
    "    if not tmp in map_dict:\n",
    "        return 0\n",
    "    return map_dict[tmp]\n",
    "    "
   ]
  },
  {
   "cell_type": "code",
   "execution_count": 4,
   "metadata": {},
   "outputs": [],
   "source": [
    "maps = load_map()\n",
    "pokes = load_pokelist()\n",
    "types = load_poketypes()\n",
    "#print(types[0]['english'])\n",
    "#print(pokes[0]['name']['english'])\n",
    "#print(pokes[0])"
   ]
  },
  {
   "cell_type": "code",
   "execution_count": 10,
   "metadata": {},
   "outputs": [
    {
     "output_type": "stream",
     "name": "stdout",
     "text": [
      "(41, 37) : L\n(25, 29) : L\n(37, 2) : L\n(33, 11) : L\n(17, 29) : L\n(20, 27) : L\n(38, 15) : L\n(26, 0) : L\n(36, 4) : L\n(34, 25) : L\n(25, 38) : L\n(18, 36) : L\n(23, 2) : L\n(16, 34) : L\n(17, 4) : L\n(17, 10) : P\n(12, 23) : P\n(13, 26) : P\n(39, 7) : P\n(10, 23) : P\n(25, 41) : P\n(12, 36) : P\n(36, 9) : P\n(2, 26) : P\n(35, 5) : P\n(2, 21) : P\n(39, 17) : P\n(22, 16) : P\n(1, 3) : P\n(37, 35) : P\n(31, 5) : P\n(32, 36) : P\n(19, 39) : P\n(1, 8) : P\n(34, 33) : P\n(25, 35) : T\n(16, 37) : T\n(17, 18) : T\n(1, 34) : T\n(38, 12) : T\n(6, 7) : T\n(23, 29) : T\n(17, 33) : T\n(14, 30) : T\n(11, 14) : T\n(24, 26) : T\n(40, 35) : T\n(23, 37) : T\n(25, 18) : T\n(28, 12) : T\n(40, 31) : T\n(22, 17) : T\n(37, 18) : T\n(22, 34) : T\n(38, 32) : T\n(22, 13) : T\n(37, 27) : T\n(26, 41) : T\n(25, 10) : T\n(40, 6) : T\n(9, 31) : T\n(11, 2) : T\n(1, 19) : T\n(40, 18) : T\n(10, 38) : T\n(8, 37) : T\n(5, 1) : T\n(20, 8) : T\n(18, 10) : T\n(26, 27) : T\n(0, 19) : T\n(7, 29) : T\n(28, 34) : T\n(21, 2) : T\n(41, 32) : T\n(12, 5) : T\n(34, 40) : T\n(9, 14) : T\n(5, 28) : T\n(32, 32) : T\n(4, 24) : T\n(6, 35) : T\n(18, 30) : T\n(24, 18) : T\n(31, 16) : T\n(2, 37) : 1\n(41, 29) : 2\n(18, 25) : 3\n(12, 22) : 4\n(25, 26) : 5\n(40, 23) : 6\n(36, 14) : 7\n(4, 31) : 8\n(28, 1) : 9\n(20, 22) : 10\n(6, 31) : 11\n(5, 36) : 12\n(14, 14) : 13\n(22, 31) : 14\n(29, 16) : 15\n(11, 31) : 16\n(41, 28) : 17\n(21, 36) : 18\n(2, 0) : 19\n(21, 26) : 20\n(37, 0) : 21\n(38, 5) : 22\n(27, 12) : 23\n(11, 12) : 24\n(15, 6) : 25\n(5, 11) : 26\n(38, 41) : 27\n(5, 22) : 28\n(7, 14) : 29\n(35, 13) : 30\n(4, 3) : 31\n(39, 14) : 32\n(19, 36) : 33\n(4, 19) : 34\n(20, 39) : 35\n(35, 7) : 36\n(4, 35) : 37\n(28, 14) : 38\n(1, 32) : 39\n(10, 14) : 40\n(22, 6) : 41\n(27, 29) : 42\n(4, 21) : 43\n(6, 6) : 44\n(37, 38) : 45\n(13, 38) : 46\n(36, 7) : 47\n(39, 31) : 48\n(15, 9) : 49\n(40, 12) : 50\n(37, 40) : 51\n(34, 19) : 52\n(10, 4) : 53\n(24, 22) : 54\n(20, 2) : 55\n(25, 16) : 56\n(16, 3) : 57\n(30, 24) : 58\n(30, 25) : 59\n(29, 36) : 60\n(33, 1) : 61\n(27, 25) : 62\n(40, 30) : 63\n(1, 7) : 64\n(35, 41) : 65\n(33, 38) : 66\n(24, 38) : 67\n(35, 32) : 68\n(21, 32) : 69\n(9, 8) : 70\n(21, 37) : 71\n(36, 29) : 72\n(15, 24) : 73\n(41, 18) : 74\n(13, 9) : 75\n(12, 3) : 76\n(40, 13) : 77\n(14, 25) : 78\n(0, 6) : 79\n(15, 7) : 80\n(6, 18) : 81\n(40, 5) : 82\n(17, 37) : 83\n(12, 18) : 84\n(13, 24) : 85\n(41, 15) : 86\n(28, 24) : 87\n(32, 15) : 88\n(12, 2) : 89\n(14, 41) : 90\n(31, 13) : 91\n(14, 33) : 92\n(34, 39) : 93\n(12, 41) : 94\n(2, 36) : 95\n(21, 8) : 96\n(33, 25) : 97\n(23, 4) : 98\n(41, 8) : 99\n(16, 41) : 100\n(12, 30) : 101\n(28, 21) : 102\n(27, 14) : 103\n(11, 41) : 104\n(36, 3) : 105\n(23, 16) : 106\n(36, 19) : 107\n(8, 38) : 108\n(26, 37) : 109\n(15, 21) : 110\n(13, 40) : 111\n(13, 12) : 112\n(30, 38) : 113\n(21, 18) : 114\n(12, 7) : 115\n(34, 38) : 116\n(40, 0) : 117\n(14, 17) : 118\n(19, 1) : 119\n(17, 9) : 120\n(18, 29) : 121\n(17, 35) : 122\n(21, 33) : 123\n(7, 0) : 124\n(2, 35) : 125\n(30, 6) : 126\n(12, 4) : 127\n(21, 30) : 128\n(10, 20) : 129\n(15, 4) : 130\n(36, 26) : 131\n(4, 32) : 132\n(20, 0) : 133\n(14, 40) : 134\n(27, 40) : 135\n(38, 14) : 136\n(11, 25) : 137\n(11, 8) : 138\n(33, 32) : 139\n(9, 32) : 140\n(10, 27) : 141\n(5, 12) : 142\n(8, 9) : 143\n(35, 11) : 144\n(34, 6) : 145\n(34, 36) : 146\n(36, 20) : 147\n(3, 6) : 148\n(25, 3) : 149\n(33, 13) : 150\n"
     ]
    }
   ],
   "source": [
    "teste = set_map(1)"
   ]
  },
  {
   "cell_type": "code",
   "execution_count": 11,
   "metadata": {},
   "outputs": [
    {
     "output_type": "execute_result",
     "data": {
      "text/plain": [
       "'Blastoise'"
      ]
     },
     "metadata": {},
     "execution_count": 11
    }
   ],
   "source": [
    "pokes[teste[(4,31)]]['name']['english']"
   ]
  },
  {
   "cell_type": "code",
   "execution_count": 7,
   "metadata": {},
   "outputs": [
    {
     "output_type": "execute_result",
     "data": {
      "text/plain": [
       "0"
      ]
     },
     "metadata": {},
     "execution_count": 7
    }
   ],
   "source": [
    "check_position(40,7,teste)"
   ]
  },
  {
   "cell_type": "code",
   "execution_count": null,
   "metadata": {},
   "outputs": [],
   "source": []
  },
  {
   "cell_type": "code",
   "execution_count": null,
   "metadata": {},
   "outputs": [],
   "source": []
  },
  {
   "cell_type": "code",
   "execution_count": null,
   "metadata": {},
   "outputs": [],
   "source": []
  }
 ],
 "metadata": {
  "kernelspec": {
   "display_name": "Python 3",
   "language": "python",
   "name": "python3"
  },
  "language_info": {
   "codemirror_mode": {
    "name": "ipython",
    "version": 3
   },
   "file_extension": ".py",
   "mimetype": "text/x-python",
   "name": "python",
   "nbconvert_exporter": "python",
   "pygments_lexer": "ipython3",
   "version": "3.8.3"
  }
 },
 "nbformat": 4,
 "nbformat_minor": 4
}